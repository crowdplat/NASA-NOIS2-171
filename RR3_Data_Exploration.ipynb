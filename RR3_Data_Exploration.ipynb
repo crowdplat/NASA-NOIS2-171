{
  "cells": [
    {
      "cell_type": "code",
      "execution_count": 1,
      "metadata": {
        "id": "qxiv_dGwm544"
      },
      "outputs": [],
      "source": [
        "import pandas as pd\n",
        "import numpy as np\n",
        "import PIL\n",
        "from PIL import Image\n",
        "import dask\n",
        "\n",
        "Image.MAX_IMAGE_PIXELS = None"
      ]
    },
    {
      "cell_type": "code",
      "execution_count": 2,
      "metadata": {
        "colab": {
          "base_uri": "https://localhost:8080/"
        },
        "id": "n-ym-0Yk-g8_",
        "outputId": "f84d091f-78d9-4d1c-cec9-8929aeaac778"
      },
      "outputs": [
        {
          "name": "stdout",
          "output_type": "stream",
          "text": [
            "Requirement already satisfied: dask in /usr/local/lib/python3.10/dist-packages (2024.10.0)\n",
            "Requirement already satisfied: click>=8.1 in /usr/local/lib/python3.10/dist-packages (from dask) (8.1.7)\n",
            "Requirement already satisfied: cloudpickle>=3.0.0 in /usr/local/lib/python3.10/dist-packages (from dask) (3.1.0)\n",
            "Requirement already satisfied: fsspec>=2021.09.0 in /usr/local/lib/python3.10/dist-packages (from dask) (2024.10.0)\n",
            "Requirement already satisfied: packaging>=20.0 in /usr/local/lib/python3.10/dist-packages (from dask) (24.2)\n",
            "Requirement already satisfied: partd>=1.4.0 in /usr/local/lib/python3.10/dist-packages (from dask) (1.4.2)\n",
            "Requirement already satisfied: pyyaml>=5.3.1 in /usr/local/lib/python3.10/dist-packages (from dask) (6.0.2)\n",
            "Requirement already satisfied: toolz>=0.10.0 in /usr/local/lib/python3.10/dist-packages (from dask) (0.12.1)\n",
            "Requirement already satisfied: importlib-metadata>=4.13.0 in /usr/local/lib/python3.10/dist-packages (from dask) (8.5.0)\n",
            "Requirement already satisfied: zipp>=3.20 in /usr/local/lib/python3.10/dist-packages (from importlib-metadata>=4.13.0->dask) (3.21.0)\n",
            "Requirement already satisfied: locket in /usr/local/lib/python3.10/dist-packages (from partd>=1.4.0->dask) (1.0.0)\n"
          ]
        }
      ],
      "source": [
        "! pip install dask"
      ]
    },
    {
      "cell_type": "code",
      "execution_count": 3,
      "metadata": {
        "id": "kQpcxTwn-mA6"
      },
      "outputs": [],
      "source": [
        "import dask.array as da\n",
        "from dask import delayed\n"
      ]
    },
    {
      "cell_type": "code",
      "execution_count": 4,
      "metadata": {
        "id": "2guxkhIwnARd"
      },
      "outputs": [],
      "source": [
        "import os\n",
        "import gzip\n",
        "import zipfile\n",
        "import requests\n",
        "import matplotlib.pyplot as plt"
      ]
    },
    {
      "cell_type": "markdown",
      "metadata": {
        "id": "brN4vJFrnEIW"
      },
      "source": [
        "## Data Download"
      ]
    },
    {
      "cell_type": "code",
      "execution_count": 5,
      "metadata": {
        "id": "zmxyk_aqnB2I"
      },
      "outputs": [],
      "source": [
        "base_url = \"https://osdr.nasa.gov/osdr/data/osd/files/352.7\"\n",
        "headers = {\"Accept\": \"application/json\"}"
      ]
    },
    {
      "cell_type": "code",
      "execution_count": 6,
      "metadata": {
        "id": "ou5UkYK5nE2b"
      },
      "outputs": [],
      "source": [
        "response = requests.get(base_url, headers=headers)"
      ]
    },
    {
      "cell_type": "code",
      "execution_count": 7,
      "metadata": {
        "colab": {
          "base_uri": "https://localhost:8080/"
        },
        "id": "Y3uRSuXhnGrp",
        "outputId": "d394efc8-61c9-4f90-f1af-937fe222b29e"
      },
      "outputs": [
        {
          "name": "stdout",
          "output_type": "stream",
          "text": [
            "Success\n"
          ]
        }
      ],
      "source": [
        "if response.status_code == 200:\n",
        "    print(\"Success\")"
      ]
    },
    {
      "cell_type": "code",
      "execution_count": 8,
      "metadata": {
        "id": "b_jlQnh6nIJi"
      },
      "outputs": [],
      "source": [
        "data = response.json()\n",
        "studies = data.get(\"studies\", {})\n",
        "osd_study = studies.get(\"OSD-352\", {})\n",
        "study_files = osd_study.get(\"study_files\", [])"
      ]
    },
    {
      "cell_type": "code",
      "execution_count": null,
      "metadata": {
        "colab": {
          "base_uri": "https://localhost:8080/"
        },
        "id": "4algR-zHnJpv",
        "outputId": "253a8f9a-e321-4140-f4fe-9bd11ff5789b"
      },
      "outputs": [
        {
          "name": "stdout",
          "output_type": "stream",
          "text": [
            "Directories missing. Running the download script.\n",
            "GLDS-352_snATAC-Seq_CG9_per_barcode_metrics.csv\n",
            "Downloading: GLDS-352_snATAC-Seq_CG9_per_barcode_metrics.csv\n",
            "Saved: rr3_dataset/csvs/GLDS-352_snATAC-Seq_CG9_per_barcode_metrics.csv\n",
            "\n",
            "GLDS-352_snATAC-Seq_CG8_per_barcode_metrics.csv\n",
            "Downloading: GLDS-352_snATAC-Seq_CG8_per_barcode_metrics.csv\n",
            "Saved: rr3_dataset/csvs/GLDS-352_snATAC-Seq_CG8_per_barcode_metrics.csv\n",
            "\n",
            "GLDS-352_snATAC-Seq_CF7_per_barcode_metrics.csv\n",
            "Downloading: GLDS-352_snATAC-Seq_CF7_per_barcode_metrics.csv\n",
            "Saved: rr3_dataset/csvs/GLDS-352_snATAC-Seq_CF7_per_barcode_metrics.csv\n",
            "\n",
            "GLDS-352_snATAC-Seq_CF2_per_barcode_metrics.csv\n",
            "Downloading: GLDS-352_snATAC-Seq_CF2_per_barcode_metrics.csv\n",
            "Saved: rr3_dataset/csvs/GLDS-352_snATAC-Seq_CF2_per_barcode_metrics.csv\n",
            "\n",
            "GLDS-352_snATAC-Seq_CF1_per_barcode_metrics.csv\n",
            "Downloading: GLDS-352_snATAC-Seq_CF1_per_barcode_metrics.csv\n",
            "Saved: rr3_dataset/csvs/GLDS-352_snATAC-Seq_CF1_per_barcode_metrics.csv\n",
            "\n",
            "GLDS-352_SpatialTranscriptomics_NASA-RR3_Sample_304_D1.jpg\n",
            "Downloading: GLDS-352_SpatialTranscriptomics_NASA-RR3_Sample_304_D1.jpg\n",
            "Saved: rr3_dataset/input/GLDS-352_SpatialTranscriptomics_NASA-RR3_Sample_304_D1.jpg\n",
            "\n",
            "GLDS-352_SpatialTranscriptomics_NASA-RR3_Sample_304_C1.jpg\n",
            "Downloading: GLDS-352_SpatialTranscriptomics_NASA-RR3_Sample_304_C1.jpg\n",
            "Saved: rr3_dataset/input/GLDS-352_SpatialTranscriptomics_NASA-RR3_Sample_304_C1.jpg\n",
            "\n",
            "GLDS-352_SpatialTranscriptomics_NASA-RR3_Sample_304_B1.jpg\n",
            "Downloading: GLDS-352_SpatialTranscriptomics_NASA-RR3_Sample_304_B1.jpg\n",
            "Saved: rr3_dataset/input/GLDS-352_SpatialTranscriptomics_NASA-RR3_Sample_304_B1.jpg\n",
            "\n",
            "GLDS-352_SpatialTranscriptomics_NASA-RR3_Sample_304_A1.jpg\n",
            "Downloading: GLDS-352_SpatialTranscriptomics_NASA-RR3_Sample_304_A1.jpg\n"
          ]
        }
      ],
      "source": [
        "if os.path.exists('rr3_dataset/csvs') and os.path.exists('rr3_dataset/img_input') and os.path.exists('rr3_dataset/tiff_input'):\n",
        "    print(\"All directories exist. Skipping download.\")\n",
        "else:\n",
        "    print(\"Some directories are missing. Running the download script.\")\n",
        "\n",
        "    # Check and download CSV files only if the 'csvs' directory is missing\n",
        "    if not os.path.exists('rr3_dataset/csvs'):\n",
        "        for file in study_files:\n",
        "            if file.get('file_name').endswith('.csv'):\n",
        "                file_name = file.get('file_name')\n",
        "                file_url = f\"https://osdr.nasa.gov{file.get('remote_url')}\"\n",
        "\n",
        "                save_dir = 'rr3_dataset/csvs'\n",
        "                os.makedirs(save_dir, exist_ok=True)\n",
        "\n",
        "                file_response = requests.get(file_url)\n",
        "                if file_response.status_code == 200:\n",
        "                    file_path = os.path.join(save_dir, file_name)\n",
        "                    with open(file_path, \"wb\") as f:\n",
        "                        f.write(file_response.content)\n",
        "                    print(f\"Saved: {file_path}\\n\")\n",
        "                else:\n",
        "                    print(f\"Failed to download {file_name}: {file_response.status_code}\\n\")\n",
        "\n",
        "    # Check and download JPG files only if the 'img_input' directory is missing\n",
        "    if not os.path.exists('rr3_dataset/img_input'):\n",
        "        for file in study_files:\n",
        "            if file.get('file_name').endswith('.jpg'):\n",
        "                file_name = file.get('file_name')\n",
        "                file_url = f\"https://osdr.nasa.gov{file.get('remote_url')}\"\n",
        "\n",
        "                save_dir = 'rr3_dataset/img_input'\n",
        "                os.makedirs(save_dir, exist_ok=True)\n",
        "\n",
        "                file_response = requests.get(file_url)\n",
        "                if file_response.status_code == 200:\n",
        "                    file_path = os.path.join(save_dir, file_name)\n",
        "                    with open(file_path, \"wb\") as f:\n",
        "                        f.write(file_response.content)\n",
        "                    print(f\"Saved: {file_path}\\n\")\n",
        "                else:\n",
        "                    print(f\"Failed to download {file_name}: {file_response.status_code}\\n\")\n",
        "\n",
        "    # Check and download TIFF files only if the 'tiff_input' directory is missing\n",
        "    if not os.path.exists('rr3_dataset/tiff_input'):\n",
        "        for file in study_files:\n",
        "            if file.get('file_name').endswith('.tiff'):\n",
        "                file_name = file.get('file_name')\n",
        "                file_url = f\"https://osdr.nasa.gov{file.get('remote_url')}\"\n",
        "\n",
        "                save_dir = 'rr3_dataset/tiff_input'\n",
        "                os.makedirs(save_dir, exist_ok=True)\n",
        "\n",
        "                file_response = requests.get(file_url)\n",
        "                if file_response.status_code == 200:\n",
        "                    file_path = os.path.join(save_dir, file_name)\n",
        "                    with open(file_path, \"wb\") as f:\n",
        "                        f.write(file_response.content)\n",
        "                    print(f\"Saved: {file_path}\\n\")\n",
        "                else:\n",
        "                    print(f\"Failed to download {file_name}: {file_response.status_code}\\n\")\n"
      ]
    },
    {
      "cell_type": "markdown",
      "metadata": {
        "id": "xJpK4jujr6bZ"
      },
      "source": [
        "## Image Labeling"
      ]
    },
    {
      "cell_type": "code",
      "execution_count": null,
      "metadata": {
        "id": "q080O-5znL25"
      },
      "outputs": [],
      "source": [
        "rr3_label_dict = {\n",
        "    'GLDS-352_SpatialTranscriptomics_NASA-RR3_Sample_158_A1.jpg': 'Space Flight',\n",
        "    'GLDS-352_SpatialTranscriptomics_NASA-RR3_Sample_158_B1.jpg': 'Space Flight',\n",
        "    'GLDS-352_SpatialTranscriptomics_NASA-RR3_Sample_158_C1.jpg': 'Space Flight',\n",
        "    'GLDS-352_SpatialTranscriptomics_NASA-RR3_Sample_158_D1.jpg': 'Space Flight',\n",
        "    'GLDS-352_SpatialTranscriptomics_NASA-RR3_Sample_159_A1.jpg': 'Ground Control',\n",
        "    'GLDS-352_SpatialTranscriptomics_NASA-RR3_Sample_159_B1.jpg': 'Ground Control',\n",
        "    'GLDS-352_SpatialTranscriptomics_NASA-RR3_Sample_159_C1.jpg': 'Space Flight',\n",
        "    'GLDS-352_SpatialTranscriptomics_NASA-RR3_Sample_159_D1.jpg': 'Space Flight',\n",
        "    'GLDS-352_SpatialTranscriptomics_NASA-RR3_Sample_304_A1.jpg': 'Ground Control',\n",
        "    'GLDS-352_SpatialTranscriptomics_NASA-RR3_Sample_304_B1.jpg': 'Ground Control',\n",
        "    'GLDS-352_SpatialTranscriptomics_NASA-RR3_Sample_304_C1.jpg': 'Ground Control',\n",
        "    'GLDS-352_SpatialTranscriptomics_NASA-RR3_Sample_304_D1.jpg': 'Ground Control',\n",
        "}\n",
        "\n",
        "rr3_labels = pd.DataFrame(list(rr3_label_dict.items()), columns=['image_file_path', 'label'])\n",
        "\n",
        "rr3_labels.head()"
      ]
    },
    {
      "cell_type": "markdown",
      "metadata": {
        "id": "awHG-gUgsDN6"
      },
      "source": [
        "## Image Preprocessing"
      ]
    },
    {
      "cell_type": "code",
      "execution_count": null,
      "metadata": {
        "id": "qqjjKvZjtYGd"
      },
      "outputs": [],
      "source": [
        "folder_path = 'rr3_dataset/input'\n",
        "\n",
        "all_files = sorted(os.listdir(folder_path))\n",
        "\n",
        "for file_name in all_files:\n",
        "    if file_name.lower().endswith('.jpg'):  # Check if the file is a .jpg\n",
        "        file_path = os.path.join(folder_path, file_name)\n",
        "        try:\n",
        "            with Image.open(file_path) as img:\n",
        "                width, height = img.size\n",
        "                print(f\"{file_name}, Dimensions: {width}x{height}\")\n",
        "        except Exception as e:\n",
        "            print(f\"Error processing {file_name}: {e}\")"
      ]
    },
    {
      "cell_type": "code",
      "execution_count": null,
      "metadata": {
        "id": "XPPHC9uQtdlj"
      },
      "outputs": [],
      "source": [
        "rr3_labels.head()"
      ]
    },
    {
      "cell_type": "code",
      "execution_count": null,
      "metadata": {
        "id": "m_fQIWjstgh8"
      },
      "outputs": [],
      "source": [
        "output_folder = \"rr3_dataset/preprocessed_images\"\n",
        "image_folder = \"rr3_dataset/input\""
      ]
    },
    {
      "cell_type": "code",
      "execution_count": null,
      "metadata": {
        "id": "zVL0fm5ZtlYO"
      },
      "outputs": [],
      "source": [
        "os.makedirs(output_folder, exist_ok=True)"
      ]
    },
    {
      "cell_type": "code",
      "execution_count": null,
      "metadata": {
        "id": "xN1Ujv2VtoGF"
      },
      "outputs": [],
      "source": [
        "image_size = (224, 224)"
      ]
    },
    {
      "cell_type": "code",
      "execution_count": null,
      "metadata": {
        "id": "AReM0LF0ufUi"
      },
      "outputs": [],
      "source": [
        "# Example file\n",
        "\n",
        "image_path = 'rr3_dataset/input/GLDS-352_SpatialTranscriptomics_NASA-RR3_Sample_158_A1.jpg'\n",
        "\n",
        "img = Image.open(image_path)\n",
        "\n",
        "intermediate_size = (img.size[0] // 4, img.size[1] // 4)\n",
        "img_intermediate = img.resize(intermediate_size, Image.Resampling.NEAREST)\n",
        "img_resized = img_intermediate.resize(image_size, Image.Resampling.NEAREST)\n",
        "\n",
        "img_array = np.array(img_resized) / 255.0\n",
        "\n",
        "plt.imshow(img_array)\n",
        "plt.show()"
      ]
    },
    {
      "cell_type": "code",
      "execution_count": null,
      "metadata": {
        "colab": {
          "base_uri": "https://localhost:8080/"
        },
        "id": "iQz3Fo7Du0XD",
        "outputId": "31676689-9e34-4fce-81f4-421acdf58a46"
      },
      "outputs": [
        {
          "name": "stdout",
          "output_type": "stream",
          "text": [
            "rr3_dataset/input/GLDS-352_SpatialTranscriptomics_NASA-RR3_Sample_158_A1.jpg\n",
            "rr3_dataset/input/GLDS-352_SpatialTranscriptomics_NASA-RR3_Sample_158_B1.jpg\n",
            "rr3_dataset/input/GLDS-352_SpatialTranscriptomics_NASA-RR3_Sample_158_C1.jpg\n"
          ]
        }
      ],
      "source": [
        "image_data = []\n",
        "image_labels = []\n",
        "import cv2\n",
        "\n",
        "for _, row in rr3_labels.iterrows():\n",
        "    file_name = row[\"image_file_path\"]\n",
        "    label = row[\"label\"]\n",
        "\n",
        "    file_path = os.path.join(image_folder, file_name)\n",
        "    print(file_path)\n",
        "    if os.path.exists(file_path):\n",
        "        try:\n",
        "            with Image.open(file_path) as img:\n",
        "                img_gray = img.convert(\"L\")\n",
        "                \n",
        "                img_array_gray = np.array(img_gray)\n",
        "\n",
        "                # equalized_img_array = cv2.equalizeHist(img_array_gray) # HISTOGRAM EQUALIZATION\n",
        "\n",
        "                clahe = cv2.createCLAHE(clipLimit=2.0, tileGridSize=(8, 8)) # ADAPTIVE HE\n",
        "                equalized_img_array = clahe.apply(img_array_gray)\n",
        "\n",
        "                equalized_img = Image.fromarray(equalized_img_array)\n",
        "\n",
        "                intermediate_size = (equalized_img.size[0] // 4, equalized_img.size[1] // 4)\n",
        "                img_intermediate = equalized_img.resize(intermediate_size, Image.Resampling.NEAREST)\n",
        "                img_resized = img_intermediate.resize(image_size, Image.Resampling.NEAREST)\n",
        "\n",
        "                img_array = np.array(img_resized) / 255.0\n",
        "\n",
        "                output_image_path = os.path.join(output_folder, f\"{os.path.splitext(file_name)[0]}.npy\")\n",
        "                np.save(output_image_path, img_array)\n",
        "\n",
        "                rr3_labels.loc[_, \"processed_file_path\"] = output_image_path\n",
        "\n",
        "            del img_intermediate\n",
        "            del img_resized\n",
        "            del img_array\n",
        "\n",
        "        except Exception as e:\n",
        "            print(f\"Error processing {file_name}: {e}\")"
      ]
    },
    {
      "cell_type": "code",
      "execution_count": null,
      "metadata": {
        "id": "KuS7xjbk9CGf"
      },
      "outputs": [],
      "source": [
        "# Alternate method with Dask-Image for resizing and normalization\n",
        "\n",
        "def process_image(file_path, output_folder, image_size):\n",
        "    print(file_path)\n",
        "    try:\n",
        "        with Image.open(file_path) as img:\n",
        "            img_resized = img.resize(image_size, Image.Resampling.NEAREST)\n",
        "            img_array = np.array(img_resized) / 255.0\n",
        "            output_image_path = os.path.join(output_folder, f\"{os.path.splitext(os.path.basename(file_path))[0]}.npy\")\n",
        "            np.save(output_image_path, img_array)\n",
        "            return output_image_path\n",
        "    except Exception as e:\n",
        "        return f\"Error processing {file_path}: {e}\"\n",
        "\n",
        "delayed_tasks = []\n",
        "for _, row in rr3_labels.iterrows():\n",
        "    file_name = row[\"image_file_path\"]\n",
        "    file_path = os.path.join(image_folder, file_name)\n",
        "    if os.path.exists(file_path):\n",
        "        delayed_task = delayed(process_image)(file_path, output_folder, image_size)\n",
        "        delayed_tasks.append(delayed_task)\n",
        "\n",
        "results = dask.compute(*delayed_tasks)\n",
        "\n",
        "for idx, result in enumerate(results):\n",
        "    if isinstance(result, str) and result.startswith(\"Error\"):\n",
        "        print(result)\n",
        "    else:\n",
        "        rr3_labels.loc[idx, \"processed_file_path\"] = result"
      ]
    },
    {
      "cell_type": "code",
      "execution_count": 20,
      "metadata": {
        "id": "Wq8genxf-zhw"
      },
      "outputs": [],
      "source": []
    },
    {
      "cell_type": "code",
      "execution_count": null,
      "metadata": {
        "id": "qmpfoYNB_A0h"
      },
      "outputs": [],
      "source": []
    }
  ],
  "metadata": {
    "accelerator": "GPU",
    "colab": {
      "gpuType": "T4",
      "provenance": []
    },
    "kernelspec": {
      "display_name": "Python 3",
      "name": "python3"
    },
    "language_info": {
      "name": "python"
    }
  },
  "nbformat": 4,
  "nbformat_minor": 0
}
